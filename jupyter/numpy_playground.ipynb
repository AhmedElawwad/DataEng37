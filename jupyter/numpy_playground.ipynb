{
 "cells": [
  {
   "cell_type": "code",
   "execution_count": 1,
   "id": "91bab53b",
   "metadata": {},
   "outputs": [],
   "source": [
    "import numpy as np\n",
    "\n",
    "import pandas as pd\n"
   ]
  },
  {
   "cell_type": "code",
   "execution_count": 2,
   "id": "44087b21",
   "metadata": {},
   "outputs": [
    {
     "data": {
      "text/plain": [
       "[1, 2, 3]"
      ]
     },
     "execution_count": 2,
     "metadata": {},
     "output_type": "execute_result"
    }
   ],
   "source": [
    "my_list = [1,2,3]\n",
    "my_list"
   ]
  },
  {
   "cell_type": "code",
   "execution_count": 3,
   "id": "1321898e",
   "metadata": {},
   "outputs": [
    {
     "data": {
      "text/plain": [
       "array([1, 2, 3])"
      ]
     },
     "execution_count": 3,
     "metadata": {},
     "output_type": "execute_result"
    }
   ],
   "source": [
    "np.array(my_list)"
   ]
  },
  {
   "cell_type": "code",
   "execution_count": 36,
   "id": "db48d59b",
   "metadata": {},
   "outputs": [
    {
     "data": {
      "text/plain": [
       "[[1, 2, 3], [4, 5, 6], [7, 8, 9]]"
      ]
     },
     "execution_count": 36,
     "metadata": {},
     "output_type": "execute_result"
    }
   ],
   "source": [
    "my_matrix = [[1,2,3],[4,5,6],[7,8,9]]\n",
    "my_matrix"
   ]
  },
  {
   "cell_type": "code",
   "execution_count": 38,
   "id": "a0e24eb2",
   "metadata": {},
   "outputs": [
    {
     "data": {
      "text/plain": [
       "array([0, 2, 4, 6, 8])"
      ]
     },
     "execution_count": 38,
     "metadata": {},
     "output_type": "execute_result"
    }
   ],
   "source": [
    "np.arange(0,10, 2)"
   ]
  },
  {
   "cell_type": "code",
   "execution_count": 39,
   "id": "4d34652a",
   "metadata": {},
   "outputs": [],
   "source": [
    "list2 = [40,50,60]"
   ]
  },
  {
   "cell_type": "code",
   "execution_count": 40,
   "id": "afc6baf0",
   "metadata": {},
   "outputs": [],
   "source": [
    "list3 = [my_list, list2]"
   ]
  },
  {
   "cell_type": "code",
   "execution_count": 41,
   "id": "27d9d26c",
   "metadata": {},
   "outputs": [
    {
     "data": {
      "text/plain": [
       "[[1, 2, 3], [40, 50, 60]]"
      ]
     },
     "execution_count": 41,
     "metadata": {},
     "output_type": "execute_result"
    }
   ],
   "source": [
    "list3"
   ]
  },
  {
   "cell_type": "code",
   "execution_count": 43,
   "id": "9ba59f7d",
   "metadata": {},
   "outputs": [],
   "source": [
    "arr3 = np.array(list3)"
   ]
  },
  {
   "cell_type": "markdown",
   "id": "f111c477",
   "metadata": {},
   "source": [
    "### "
   ]
  },
  {
   "cell_type": "code",
   "execution_count": 45,
   "id": "4274ed26",
   "metadata": {},
   "outputs": [
    {
     "data": {
      "text/plain": [
       "array([[ 1,  2,  3],\n",
       "       [40, 50, 60]])"
      ]
     },
     "execution_count": 45,
     "metadata": {},
     "output_type": "execute_result"
    }
   ],
   "source": [
    "arr3"
   ]
  },
  {
   "cell_type": "code",
   "execution_count": 46,
   "id": "309fa3eb",
   "metadata": {},
   "outputs": [
    {
     "data": {
      "text/plain": [
       "(2, 3)"
      ]
     },
     "execution_count": 46,
     "metadata": {},
     "output_type": "execute_result"
    }
   ],
   "source": [
    "arr3.shape"
   ]
  },
  {
   "cell_type": "code",
   "execution_count": 47,
   "id": "298256c9",
   "metadata": {},
   "outputs": [],
   "source": [
    "#Matrix operation \n",
    "# allow us to multiply several things "
   ]
  },
  {
   "cell_type": "code",
   "execution_count": 48,
   "id": "e8105290",
   "metadata": {},
   "outputs": [
    {
     "data": {
      "text/plain": [
       "array([[  3,   6,   9],\n",
       "       [120, 150, 180]])"
      ]
     },
     "execution_count": 48,
     "metadata": {},
     "output_type": "execute_result"
    }
   ],
   "source": [
    "arr3 * 3"
   ]
  },
  {
   "cell_type": "code",
   "execution_count": null,
   "id": "0181f629",
   "metadata": {},
   "outputs": [],
   "source": []
  },
  {
   "cell_type": "code",
   "execution_count": null,
   "id": "da6923f4",
   "metadata": {},
   "outputs": [],
   "source": []
  },
  {
   "cell_type": "code",
   "execution_count": null,
   "id": "947afacd",
   "metadata": {},
   "outputs": [],
   "source": []
  },
  {
   "cell_type": "code",
   "execution_count": null,
   "id": "f55a7d9b",
   "metadata": {},
   "outputs": [],
   "source": []
  },
  {
   "cell_type": "code",
   "execution_count": 53,
   "id": "df750017",
   "metadata": {},
   "outputs": [],
   "source": [
    "lst1 = np.arange(0,13)"
   ]
  },
  {
   "cell_type": "code",
   "execution_count": 54,
   "id": "26039a72",
   "metadata": {},
   "outputs": [
    {
     "data": {
      "text/plain": [
       "array([99, 99, 99, 99, 99, 99,  6,  7,  8,  9, 10])"
      ]
     },
     "execution_count": 54,
     "metadata": {},
     "output_type": "execute_result"
    }
   ],
   "source": [
    "arr"
   ]
  },
  {
   "cell_type": "code",
   "execution_count": 55,
   "id": "74e5c289",
   "metadata": {},
   "outputs": [],
   "source": [
    "arr1 = np.array(lst1)"
   ]
  },
  {
   "cell_type": "code",
   "execution_count": 57,
   "id": "6d88685c",
   "metadata": {},
   "outputs": [],
   "source": [
    "# 2d\n",
    "\n",
    "arr_2d = np.array(([5,10,15],[20,25,30],[35,40,45], [50,69,85]))"
   ]
  },
  {
   "cell_type": "code",
   "execution_count": 74,
   "id": "ba53590b",
   "metadata": {},
   "outputs": [
    {
     "data": {
      "text/plain": [
       "array([[ 5, 10, 15],\n",
       "       [20, 25, 30],\n",
       "       [35, 40, 45],\n",
       "       [50, 69, 85]])"
      ]
     },
     "execution_count": 74,
     "metadata": {},
     "output_type": "execute_result"
    }
   ],
   "source": [
    "arr_2d"
   ]
  },
  {
   "cell_type": "code",
   "execution_count": 75,
   "id": "8499341d",
   "metadata": {},
   "outputs": [
    {
     "data": {
      "text/plain": [
       "(4, 3)"
      ]
     },
     "execution_count": 75,
     "metadata": {},
     "output_type": "execute_result"
    }
   ],
   "source": [
    "arr_2d.shape"
   ]
  },
  {
   "cell_type": "code",
   "execution_count": 71,
   "id": "8a7442d2",
   "metadata": {},
   "outputs": [],
   "source": [
    "arr_3d = np.array( [[[ 1,  2, 1,  2],\n",
    "        [ 3,  4, 1,  2]],\n",
    "\n",
    "       [[ 5,  6, 1,  2],\n",
    "        [ 7,  8, 1,  2]],\n",
    "\n",
    "       [[ 9, 10, 1,  2],\n",
    "        [11, 12, 1,  2]]])"
   ]
  },
  {
   "cell_type": "code",
   "execution_count": 72,
   "id": "a30b3c56",
   "metadata": {},
   "outputs": [
    {
     "data": {
      "text/plain": [
       "array([[[ 1,  2,  1,  2],\n",
       "        [ 3,  4,  1,  2]],\n",
       "\n",
       "       [[ 5,  6,  1,  2],\n",
       "        [ 7,  8,  1,  2]],\n",
       "\n",
       "       [[ 9, 10,  1,  2],\n",
       "        [11, 12,  1,  2]]])"
      ]
     },
     "execution_count": 72,
     "metadata": {},
     "output_type": "execute_result"
    }
   ],
   "source": [
    "arr_3d"
   ]
  },
  {
   "cell_type": "code",
   "execution_count": 73,
   "id": "b3fb6682",
   "metadata": {},
   "outputs": [
    {
     "data": {
      "text/plain": [
       "(3, 2, 4)"
      ]
     },
     "execution_count": 73,
     "metadata": {},
     "output_type": "execute_result"
    }
   ],
   "source": [
    "arr_3d.shape"
   ]
  },
  {
   "cell_type": "code",
   "execution_count": 77,
   "id": "e22c57d7",
   "metadata": {},
   "outputs": [
    {
     "data": {
      "text/plain": [
       "array([12.        , 11.7755102 , 11.55102041, 11.32653061, 11.10204082,\n",
       "       10.87755102, 10.65306122, 10.42857143, 10.20408163,  9.97959184,\n",
       "        9.75510204,  9.53061224,  9.30612245,  9.08163265,  8.85714286,\n",
       "        8.63265306,  8.40816327,  8.18367347,  7.95918367,  7.73469388,\n",
       "        7.51020408,  7.28571429,  7.06122449,  6.83673469,  6.6122449 ,\n",
       "        6.3877551 ,  6.16326531,  5.93877551,  5.71428571,  5.48979592,\n",
       "        5.26530612,  5.04081633,  4.81632653,  4.59183673,  4.36734694,\n",
       "        4.14285714,  3.91836735,  3.69387755,  3.46938776,  3.24489796,\n",
       "        3.02040816,  2.79591837,  2.57142857,  2.34693878,  2.12244898,\n",
       "        1.89795918,  1.67346939,  1.44897959,  1.2244898 ,  1.        ])"
      ]
     },
     "execution_count": 77,
     "metadata": {},
     "output_type": "execute_result"
    }
   ],
   "source": [
    "np.linspace(12,1)"
   ]
  },
  {
   "cell_type": "raw",
   "id": "5fed5259",
   "metadata": {},
   "source": []
  },
  {
   "cell_type": "code",
   "execution_count": 78,
   "id": "55367136",
   "metadata": {},
   "outputs": [
    {
     "data": {
      "text/plain": [
       "array([20, 25, 30])"
      ]
     },
     "execution_count": 78,
     "metadata": {},
     "output_type": "execute_result"
    }
   ],
   "source": [
    "arr_2d[1]"
   ]
  },
  {
   "cell_type": "code",
   "execution_count": 79,
   "id": "d9d02c59",
   "metadata": {},
   "outputs": [
    {
     "data": {
      "text/plain": [
       "25"
      ]
     },
     "execution_count": 79,
     "metadata": {},
     "output_type": "execute_result"
    }
   ],
   "source": [
    "arr_2d[1][1]"
   ]
  },
  {
   "cell_type": "code",
   "execution_count": 80,
   "id": "7496df33",
   "metadata": {},
   "outputs": [
    {
     "data": {
      "text/plain": [
       "25"
      ]
     },
     "execution_count": 80,
     "metadata": {},
     "output_type": "execute_result"
    }
   ],
   "source": [
    "arr_2d[1][1]"
   ]
  },
  {
   "cell_type": "code",
   "execution_count": 82,
   "id": "0fdf108e",
   "metadata": {},
   "outputs": [
    {
     "data": {
      "text/plain": [
       "array([10])"
      ]
     },
     "execution_count": 82,
     "metadata": {},
     "output_type": "execute_result"
    }
   ],
   "source": [
    "arr_2d[:1,1]"
   ]
  },
  {
   "cell_type": "code",
   "execution_count": 83,
   "id": "d3eca128",
   "metadata": {},
   "outputs": [
    {
     "data": {
      "text/plain": [
       "96"
      ]
     },
     "execution_count": 83,
     "metadata": {},
     "output_type": "execute_result"
    }
   ],
   "source": [
    "arr_3d.sum()"
   ]
  },
  {
   "cell_type": "code",
   "execution_count": 85,
   "id": "6ecbb5be",
   "metadata": {},
   "outputs": [
    {
     "data": {
      "text/plain": [
       "3.5118845842842465"
      ]
     },
     "execution_count": 85,
     "metadata": {},
     "output_type": "execute_result"
    }
   ],
   "source": [
    "arr_3d.std()"
   ]
  },
  {
   "cell_type": "code",
   "execution_count": 86,
   "id": "9905266a",
   "metadata": {},
   "outputs": [
    {
     "data": {
      "text/plain": [
       "4.0"
      ]
     },
     "execution_count": 86,
     "metadata": {},
     "output_type": "execute_result"
    }
   ],
   "source": [
    "arr_3d.mean()"
   ]
  },
  {
   "cell_type": "code",
   "execution_count": 88,
   "id": "55527063",
   "metadata": {},
   "outputs": [
    {
     "data": {
      "text/plain": [
       "array([[5., 6., 1., 2.],\n",
       "       [7., 8., 1., 2.]])"
      ]
     },
     "execution_count": 88,
     "metadata": {},
     "output_type": "execute_result"
    }
   ],
   "source": [
    "arr_3d.mean(0)"
   ]
  },
  {
   "cell_type": "code",
   "execution_count": 90,
   "id": "d9dc3fcc",
   "metadata": {},
   "outputs": [
    {
     "name": "stdout",
     "output_type": "stream",
     "text": [
      "[[1 2 1 2]\n",
      " [3 4 1 2]]\n",
      "[[5 6 1 2]\n",
      " [7 8 1 2]]\n",
      "[[ 9 10  1  2]\n",
      " [11 12  1  2]]\n"
     ]
    }
   ],
   "source": [
    "for x in arr_3d:\n",
    "    print(x)"
   ]
  },
  {
   "cell_type": "code",
   "execution_count": 93,
   "id": "ff9a2918",
   "metadata": {},
   "outputs": [
    {
     "name": "stdout",
     "output_type": "stream",
     "text": [
      "1\n",
      "2\n",
      "3\n",
      "40\n",
      "50\n",
      "60\n"
     ]
    }
   ],
   "source": [
    "for x in np.nditer(arr3):\n",
    "    print(x)"
   ]
  },
  {
   "cell_type": "code",
   "execution_count": 95,
   "id": "ba8144e9",
   "metadata": {},
   "outputs": [],
   "source": [
    "np.save(\"new_array\",arr_3d)"
   ]
  },
  {
   "cell_type": "code",
   "execution_count": 96,
   "id": "a1113031",
   "metadata": {},
   "outputs": [],
   "source": [
    "np.savetxt(\"new_array.txt\", arr3, delimiter='t')"
   ]
  },
  {
   "cell_type": "code",
   "execution_count": 99,
   "id": "9a24ccf5",
   "metadata": {},
   "outputs": [
    {
     "data": {
      "text/plain": [
       "array([[ 1,  2,  3],\n",
       "       [40, 50, 60]])"
      ]
     },
     "execution_count": 99,
     "metadata": {},
     "output_type": "execute_result"
    }
   ],
   "source": [
    "np.loadtxt(\"new_array.txt\", delimiter='t', dtype=int)"
   ]
  },
  {
   "cell_type": "markdown",
   "id": "462fb174",
   "metadata": {},
   "source": []
  }
 ],
 "metadata": {
  "kernelspec": {
   "display_name": "Python 3 (ipykernel)",
   "language": "python",
   "name": "python3"
  },
  "language_info": {
   "codemirror_mode": {
    "name": "ipython",
    "version": 3
   },
   "file_extension": ".py",
   "mimetype": "text/x-python",
   "name": "python",
   "nbconvert_exporter": "python",
   "pygments_lexer": "ipython3",
   "version": "3.10.1"
  }
 },
 "nbformat": 4,
 "nbformat_minor": 5
}
